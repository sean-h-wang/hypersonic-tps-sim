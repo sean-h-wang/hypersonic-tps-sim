{
 "cells": [
  {
   "cell_type": "markdown",
   "id": "32367561",
   "metadata": {},
   "source": [
    "# Hypersonic TPS Simulator #"
   ]
  },
  {
   "cell_type": "code",
   "execution_count": null,
   "id": "6d5780a7",
   "metadata": {},
   "outputs": [],
   "source": [
    "import numpy as np\n",
    "import json\n",
    "import physics \n",
    "from solvers import *"
   ]
  },
  {
   "cell_type": "code",
   "execution_count": null,
   "id": "a23092bb",
   "metadata": {},
   "outputs": [],
   "source": [
    "input = (8, 60, 60, 2)\n",
    "\n",
    "def driver(mach, altitude, t_max, material_id):\n",
    "    \"\"\"\n",
    "    Driver function to run the hypersonic TPS simulation.\n",
    "\n",
    "    Parameters:\n",
    "        mach: Free-stream Mach number\n",
    "        altitude: Altitude in meters\n",
    "        t_max: Maximum simulation time in seconds\n",
    "        material_id: Material ID for TPS material\n",
    "\n",
    "    Returns:\n",
    "        results: Dictionary containing time, temperature profile, and TPS thickness over time\n",
    "    \"\"\"\n",
    "    \n",
    "\n",
    "    # Load parameters from JSON file\n",
    "    with open('config/params.json', 'r') as f:\n",
    "        params = json.load(f)\n",
    "\n",
    "    # Update parameters with input values\n",
    "    params['M_inf'] = mach\n",
    "    params['altitude'] = altitude\n",
    "    params['t_max'] = t_max\n",
    "    params['material_id'] = str(material_id)"
   ]
  }
 ],
 "metadata": {
  "kernelspec": {
   "display_name": ".venv",
   "language": "python",
   "name": "python3"
  },
  "language_info": {
   "name": "python",
   "version": "3.13.7"
  }
 },
 "nbformat": 4,
 "nbformat_minor": 5
}
