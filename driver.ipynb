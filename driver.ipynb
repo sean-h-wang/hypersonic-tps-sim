{
 "cells": [
  {
   "cell_type": "markdown",
   "id": "32367561",
   "metadata": {},
   "source": [
    "# Hypersonic TPS Simulator #"
   ]
  },
  {
   "cell_type": "code",
   "execution_count": 16,
   "id": "6d5780a7",
   "metadata": {},
   "outputs": [],
   "source": [
    "import numpy as np\n",
    "import json\n",
    "import physics\n",
    "from solvers import *\n",
    "from solvers.fd_mol_rhs import *\n",
    "from solvers.solve_ivp_integrator import *\n",
    "import visualization\n",
    "import h5py\n",
    "import math\n",
    "import time"
   ]
  },
  {
   "cell_type": "code",
   "execution_count": 17,
   "id": "54a32ebf",
   "metadata": {},
   "outputs": [],
   "source": [
    "def save_results_to_h5(filename, t_sol, T_sol, L_sol, params):\n",
    "    \"\"\"\n",
    "    Save simulation results and parameters into an HDF5 file.\n",
    "    \n",
    "    Args:\n",
    "        filename: str, path to output .h5 file\n",
    "        t_sol: 1D numpy array, time points\n",
    "        T_sol: 2D numpy array, temperature profile over time\n",
    "        L_sol: 1D numpy array, ablation depth\n",
    "        params: dict, simulation parameters\n",
    "    \"\"\"\n",
    "    with h5py.File(filename, \"w\") as f:\n",
    "        # Save datasets\n",
    "        f.create_dataset(\"time\", data=t_sol)\n",
    "        f.create_dataset(\"temperature\", data=T_sol)\n",
    "        f.create_dataset(\"ablation_depth\", data=L_sol)\n",
    "        \n",
    "        # Save parameters as attributes\n",
    "        param_group = f.create_group(\"parameters\")\n",
    "        for key, value in params.items():\n",
    "            # HDF5 attributes cannot store dicts directly, store as string if needed\n",
    "            if isinstance(value, (int, float, str)):\n",
    "                param_group.attrs[key] = value\n",
    "            elif isinstance(value, np.ndarray):\n",
    "                param_group.create_dataset(key, data=value)\n",
    "            else:\n",
    "                param_group.attrs[key] = str(value)\n",
    "\n",
    "    print(f\"Results successfully saved to {filename}\")"
   ]
  },
  {
   "cell_type": "code",
   "execution_count": 18,
   "id": "a23092bb",
   "metadata": {},
   "outputs": [],
   "source": [
    "def driver(mach, altitude, t_max, material_id):\n",
    "    \"\"\"\n",
    "    Driver function to run the hypersonic TPS simulation.\n",
    "\n",
    "    Parameters:\n",
    "        mach: Free-stream Mach number\n",
    "        altitude: Altitude in KILOMETERS\n",
    "        t_max: Maximum simulation time in seconds\n",
    "        material_id: Material ID for TPS material (MUST BE ONE INDEXED)\n",
    "\n",
    "    Returns:\n",
    "        results: Dictionary containing time, temperature profile, and TPS thickness over time\n",
    "    \"\"\"\n",
    "\n",
    "    # Load parameters from JSON file\n",
    "    with open('config/params.json', 'r') as f:\n",
    "        params = json.load(f)\n",
    "\n",
    "    with open('config/materials.json', 'r') as f:\n",
    "        materials = json.load(f)\n",
    "\n",
    "    physics.fill_all_params(mach, altitude, t_max, material_id - 1, params, materials)\n",
    "\n",
    "    # Ensure solvers.fd_mol_rhs and solve_ivp_integrator are imported correctly\n",
    "    t_sol, T_sol, L_sol = solve_ivp_integrator(fd_mol_rhs, params, strategy='Radau')\n",
    "\n",
    "    print(f\"Simulation complete.\")\n",
    "    timestamp = time.time()\n",
    "    filename = f\"data/sim{timestamp}-M{mach}_alt{altitude}_mat{params['material_name']}_tmax{t_max}s.h5\"\n",
    "    save_results_to_h5(filename, t_sol, T_sol, L_sol, params)\n",
    "    \n",
    "    "
   ]
  },
  {
   "cell_type": "code",
   "execution_count": 19,
   "id": "873f2079",
   "metadata": {},
   "outputs": [
    {
     "name": "stdout",
     "output_type": "stream",
     "text": [
      "\n",
      "MATERIAL SELECTION:\n",
      "1. Carbon-Carbon (k=80.0 W/m·K, rho=1600.0 kg/m³, cp=1050.0 J/kg·K, T_abl=2200 K)\n",
      "2. C/SiC Composite (k=45.0 W/m·K, rho=2500.0 kg/m³, cp=900.0 J/kg·K, T_abl=1900 K)\n",
      "3. C/C-SiC Composite (k=55.0 W/m·K, rho=2200.0 kg/m³, cp=950.0 J/kg·K, T_abl=2100 K)\n",
      "4. HfC UHTC (k=25.0 W/m·K, rho=12600.0 kg/m³, cp=280.0 J/kg·K, T_abl=4200 K)\n",
      "5. TaC UHTC (k=22.0 W/m·K, rho=14500.0 kg/m³, cp=265.0 J/kg·K, T_abl=4100 K)\n",
      "6. ZrC UHTC (k=20.0 W/m·K, rho=6600.0 kg/m³, cp=300.0 J/kg·K, T_abl=3825 K)\n",
      "7. NbC UHTC (k=14.0 W/m·K, rho=7800.0 kg/m³, cp=320.0 J/kg·K, T_abl=3873 K)\n",
      "8. AVCOAT (k=0.5 W/m·K, rho=500.0 kg/m³, cp=1500.0 J/kg·K, T_abl=1200 K)\n",
      "9. PICA-X (k=0.09 W/m·K, rho=280.0 kg/m³, cp=1200.0 J/kg·K, T_abl=900 K)\n",
      "10. SIRCA (k=0.3 W/m·K, rho=320.0 kg/m³, cp=1300.0 J/kg·K, T_abl=811 K)\n"
     ]
    }
   ],
   "source": [
    "with open('config/materials.json', 'r') as f:\n",
    "    materials = json.load(f)\n",
    "\n",
    "physics.print_material_selection(materials)\n",
    "\n",
    "material_id = \"\"\n",
    "\n",
    "while True:\n",
    "    material_id = input(f\"Enter material ID from the above list (1-{len(materials)}): \").strip()\n",
    "    try:\n",
    "        material_id = int(material_id)\n",
    "    except ValueError:\n",
    "        print(\"Invalid input. Please enter a number.\")\n",
    "        continue\n",
    "    if 0 < material_id <= len(materials):\n",
    "        break\n",
    "    else:\n",
    "        print(\"Invalid material ID. Enter material ID from the above list (1-{len(materials)}).\")\n"
   ]
  },
  {
   "cell_type": "code",
   "execution_count": 20,
   "id": "f48653bf",
   "metadata": {},
   "outputs": [
    {
     "name": "stdout",
     "output_type": "stream",
     "text": [
      "Simulation complete.\n",
      "Results successfully saved to data/sim1758974745.3883865-M25_alt20_matHfC UHTC_tmax60s.h5\n"
     ]
    }
   ],
   "source": [
    "input_tuple = (25, 20, 60, material_id)\n",
    "\n",
    "driver(*input_tuple)"
   ]
  },
  {
   "cell_type": "code",
   "execution_count": null,
   "id": "db138d7a",
   "metadata": {},
   "outputs": [
    {
     "ename": "FileNotFoundError",
     "evalue": "[Errno 2] Unable to synchronously open file (unable to open file: name = 'data/sim1695841234-M8_alt30_mat_HfC_UHTC_tmax60s.h5', errno = 2, error message = 'No such file or directory', flags = 0, o_flags = 0)",
     "output_type": "error",
     "traceback": [
      "\u001b[31m---------------------------------------------------------------------------\u001b[39m",
      "\u001b[31mFileNotFoundError\u001b[39m                         Traceback (most recent call last)",
      "\u001b[36mCell\u001b[39m\u001b[36m \u001b[39m\u001b[32mIn[21]\u001b[39m\u001b[32m, line 6\u001b[39m\n\u001b[32m      2\u001b[39m \u001b[38;5;28;01mimport\u001b[39;00m\u001b[38;5;250m \u001b[39m\u001b[34;01mnumpy\u001b[39;00m\u001b[38;5;250m \u001b[39m\u001b[38;5;28;01mas\u001b[39;00m\u001b[38;5;250m \u001b[39m\u001b[34;01mnp\u001b[39;00m\n\u001b[32m      4\u001b[39m filename = \u001b[33m\"\u001b[39m\u001b[33mdata/sim1695841234-M8_alt30_mat_HfC_UHTC_tmax60s.h5\u001b[39m\u001b[33m\"\u001b[39m\n\u001b[32m----> \u001b[39m\u001b[32m6\u001b[39m \u001b[38;5;28;01mwith\u001b[39;00m \u001b[43mh5py\u001b[49m\u001b[43m.\u001b[49m\u001b[43mFile\u001b[49m\u001b[43m(\u001b[49m\u001b[43mfilename\u001b[49m\u001b[43m,\u001b[49m\u001b[43m \u001b[49m\u001b[33;43m\"\u001b[39;49m\u001b[33;43mr\u001b[39;49m\u001b[33;43m\"\u001b[39;49m\u001b[43m)\u001b[49m \u001b[38;5;28;01mas\u001b[39;00m f:\n\u001b[32m      7\u001b[39m     \u001b[38;5;66;03m# Read datasets\u001b[39;00m\n\u001b[32m      8\u001b[39m     t_sol = f[\u001b[33m\"\u001b[39m\u001b[33mtime\u001b[39m\u001b[33m\"\u001b[39m][:]               \u001b[38;5;66;03m# 1D array\u001b[39;00m\n\u001b[32m      9\u001b[39m     T_sol = f[\u001b[33m\"\u001b[39m\u001b[33mtemperature\u001b[39m\u001b[33m\"\u001b[39m][:]        \u001b[38;5;66;03m# 2D array [time, space]\u001b[39;00m\n",
      "\u001b[36mFile \u001b[39m\u001b[32md:\\Share\\VSCode\\.venv\\Lib\\site-packages\\h5py\\_hl\\files.py:564\u001b[39m, in \u001b[36mFile.__init__\u001b[39m\u001b[34m(self, name, mode, driver, libver, userblock_size, swmr, rdcc_nslots, rdcc_nbytes, rdcc_w0, track_order, fs_strategy, fs_persist, fs_threshold, fs_page_size, page_buf_size, min_meta_keep, min_raw_keep, locking, alignment_threshold, alignment_interval, meta_block_size, **kwds)\u001b[39m\n\u001b[32m    555\u001b[39m     fapl = make_fapl(driver, libver, rdcc_nslots, rdcc_nbytes, rdcc_w0,\n\u001b[32m    556\u001b[39m                      locking, page_buf_size, min_meta_keep, min_raw_keep,\n\u001b[32m    557\u001b[39m                      alignment_threshold=alignment_threshold,\n\u001b[32m    558\u001b[39m                      alignment_interval=alignment_interval,\n\u001b[32m    559\u001b[39m                      meta_block_size=meta_block_size,\n\u001b[32m    560\u001b[39m                      **kwds)\n\u001b[32m    561\u001b[39m     fcpl = make_fcpl(track_order=track_order, fs_strategy=fs_strategy,\n\u001b[32m    562\u001b[39m                      fs_persist=fs_persist, fs_threshold=fs_threshold,\n\u001b[32m    563\u001b[39m                      fs_page_size=fs_page_size)\n\u001b[32m--> \u001b[39m\u001b[32m564\u001b[39m     fid = \u001b[43mmake_fid\u001b[49m\u001b[43m(\u001b[49m\u001b[43mname\u001b[49m\u001b[43m,\u001b[49m\u001b[43m \u001b[49m\u001b[43mmode\u001b[49m\u001b[43m,\u001b[49m\u001b[43m \u001b[49m\u001b[43muserblock_size\u001b[49m\u001b[43m,\u001b[49m\u001b[43m \u001b[49m\u001b[43mfapl\u001b[49m\u001b[43m,\u001b[49m\u001b[43m \u001b[49m\u001b[43mfcpl\u001b[49m\u001b[43m,\u001b[49m\u001b[43m \u001b[49m\u001b[43mswmr\u001b[49m\u001b[43m=\u001b[49m\u001b[43mswmr\u001b[49m\u001b[43m)\u001b[49m\n\u001b[32m    566\u001b[39m \u001b[38;5;28;01mif\u001b[39;00m \u001b[38;5;28misinstance\u001b[39m(libver, \u001b[38;5;28mtuple\u001b[39m):\n\u001b[32m    567\u001b[39m     \u001b[38;5;28mself\u001b[39m._libver = libver\n",
      "\u001b[36mFile \u001b[39m\u001b[32md:\\Share\\VSCode\\.venv\\Lib\\site-packages\\h5py\\_hl\\files.py:238\u001b[39m, in \u001b[36mmake_fid\u001b[39m\u001b[34m(name, mode, userblock_size, fapl, fcpl, swmr)\u001b[39m\n\u001b[32m    236\u001b[39m     \u001b[38;5;28;01mif\u001b[39;00m swmr \u001b[38;5;129;01mand\u001b[39;00m swmr_support:\n\u001b[32m    237\u001b[39m         flags |= h5f.ACC_SWMR_READ\n\u001b[32m--> \u001b[39m\u001b[32m238\u001b[39m     fid = \u001b[43mh5f\u001b[49m\u001b[43m.\u001b[49m\u001b[43mopen\u001b[49m\u001b[43m(\u001b[49m\u001b[43mname\u001b[49m\u001b[43m,\u001b[49m\u001b[43m \u001b[49m\u001b[43mflags\u001b[49m\u001b[43m,\u001b[49m\u001b[43m \u001b[49m\u001b[43mfapl\u001b[49m\u001b[43m=\u001b[49m\u001b[43mfapl\u001b[49m\u001b[43m)\u001b[49m\n\u001b[32m    239\u001b[39m \u001b[38;5;28;01melif\u001b[39;00m mode == \u001b[33m'\u001b[39m\u001b[33mr+\u001b[39m\u001b[33m'\u001b[39m:\n\u001b[32m    240\u001b[39m     fid = h5f.open(name, h5f.ACC_RDWR, fapl=fapl)\n",
      "\u001b[36mFile \u001b[39m\u001b[32mh5py/_objects.pyx:56\u001b[39m, in \u001b[36mh5py._objects.with_phil.wrapper\u001b[39m\u001b[34m()\u001b[39m\n",
      "\u001b[36mFile \u001b[39m\u001b[32mh5py/_objects.pyx:57\u001b[39m, in \u001b[36mh5py._objects.with_phil.wrapper\u001b[39m\u001b[34m()\u001b[39m\n",
      "\u001b[36mFile \u001b[39m\u001b[32mh5py/h5f.pyx:102\u001b[39m, in \u001b[36mh5py.h5f.open\u001b[39m\u001b[34m()\u001b[39m\n",
      "\u001b[31mFileNotFoundError\u001b[39m: [Errno 2] Unable to synchronously open file (unable to open file: name = 'data/sim1695841234-M8_alt30_mat_HfC_UHTC_tmax60s.h5', errno = 2, error message = 'No such file or directory', flags = 0, o_flags = 0)"
     ]
    }
   ],
   "source": [
    "import h5py\n",
    "import numpy as np\n",
    "\n",
    "# Traverse data folder.\n",
    "filename = \"\"\n",
    "\n",
    "with h5py.File(filename, \"r\") as f:\n",
    "    # Read datasets\n",
    "    t_sol = f[\"time\"][:]               # 1D array\n",
    "    T_sol = f[\"temperature\"][:]        # 2D array [time, space]\n",
    "    L_sol = f[\"ablation_depth\"][:]     # 1D array\n",
    "    \n",
    "    # Read parameters if needed\n",
    "    params = {key: f[\"parameters\"].attrs[key] for key in f[\"parameters\"].attrs}\n",
    "\n",
    "print(\"Time shape:\", t_sol.shape)\n",
    "print(\"Temperature shape:\", T_sol.shape)\n",
    "print(\"Ablation depth shape:\", L_sol.shape)\n"
   ]
  },
  {
   "cell_type": "code",
   "execution_count": null,
   "id": "b44af1b8",
   "metadata": {},
   "outputs": [],
   "source": [
    "import matplotlib.pyplot as plt\n",
    "\n",
    "# Plot the ablation depth over time\n",
    "plt.plot(t_sol, L_sol)\n",
    "plt.xlabel(\"Time [s]\")\n",
    "plt.ylabel(\"TPS thickness [m]\")\n",
    "plt.title(\"Ablation over Time\")\n",
    "plt.show()\n",
    "\n",
    "# Plot temperature at the nose (first node) over time\n",
    "plt.plot(t_sol, T_sol[:, 0])\n",
    "plt.xlabel(\"Time [s]\")\n",
    "plt.ylabel(\"Temperature [K]\")\n",
    "plt.title(\"Nose Temperature\")\n",
    "plt.show()\n"
   ]
  }
 ],
 "metadata": {
  "kernelspec": {
   "display_name": ".venv",
   "language": "python",
   "name": "python3"
  },
  "language_info": {
   "codemirror_mode": {
    "name": "ipython",
    "version": 3
   },
   "file_extension": ".py",
   "mimetype": "text/x-python",
   "name": "python",
   "nbconvert_exporter": "python",
   "pygments_lexer": "ipython3",
   "version": "3.13.7"
  }
 },
 "nbformat": 4,
 "nbformat_minor": 5
}
